{
 "cells": [
  {
   "cell_type": "markdown",
   "metadata": {},
   "source": [
    "# Isolation Forest for SWaT Anomaly Detection with Contamination Tuning\n",
    "This notebook trains an Isolation Forest model, tunes the `contamination` hyperparameter using a validation set, and evaluates its performance on the SWaT dataset."
   ]
  },
  {
   "cell_type": "markdown",
   "metadata": {},
   "source": [
    "## Load Data and Libraries"
   ]
  },
  {
   "cell_type": "code",
   "execution_count": 1,
   "metadata": {},
   "outputs": [],
   "source": [
    "import pandas as pd\n",
    "from pyod.models.iforest import IForest\n",
    "from sklearn.metrics import f1_score, precision_score, recall_score, confusion_matrix\n",
    "import numpy as np\n",
    "import matplotlib.pyplot as plt"
   ]
  },
  {
   "cell_type": "code",
   "execution_count": 2,
   "metadata": {},
   "outputs": [
    {
     "name": "stdout",
     "output_type": "stream",
     "text": [
      "Full normal data shape: (495000, 34)\n",
      "Attack data (with labels) shape: (449919, 35)\n"
     ]
    }
   ],
   "source": [
    "# Load preprocessed data\n",
    "normal_z_full = pd.read_csv('../data/processed/normal_z.csv', index_col=0, parse_dates=True)\n",
    "attack_z_df = pd.read_csv('../data/processed/attack_z.csv', index_col=0, parse_dates=True)\n",
    "\n",
    "print(f\"Full normal data shape: {normal_z_full.shape}\")\n",
    "print(f\"Attack data (with labels) shape: {attack_z_df.shape}\")"
   ]
  },
  {
   "cell_type": "markdown",
   "metadata": {},
   "source": [
    "## Prepare Training, Validation, and Test Sets\n",
    "- **`X_train`**: A portion of the normal dataset (e.g., first 80%) to train the model.\n",
    "- **`X_val`**: The remaining portion of the normal dataset (e.g., last 20%) to evaluate different `contamination` values. Since this is normal data, any anomalies flagged here are False Positives.\n",
    "- **`X_test`**: Features from the attack dataset (excluding labels).\n",
    "- **`y_true`**: True labels for the `X_test` data."
   ]
  },
  {
   "cell_type": "code",
   "execution_count": 3,
   "metadata": {},
   "outputs": [
    {
     "name": "stdout",
     "output_type": "stream",
     "text": [
      "X_train shape: (396000, 34)\n",
      "X_val shape: (99000, 34)\n",
      "X_test shape: (449919, 34)\n",
      "y_true shape: (449919,), Number of true anomalies: 54621\n"
     ]
    }
   ],
   "source": [
    "# Create training and validation sets from normal data\n",
    "split_idx = int(len(normal_z_full) * 0.8)\n",
    "X_train = normal_z_full.iloc[:split_idx]\n",
    "X_val = normal_z_full.iloc[split_idx:]\n",
    "\n",
    "# Prepare test set and true labels from attack data\n",
    "y_true = (attack_z_df['Normal/Attack'] != 'Normal').astype(int).values\n",
    "X_test = attack_z_df.drop(columns=['Normal/Attack'])\n",
    "\n",
    "print(f\"X_train shape: {X_train.shape}\")\n",
    "print(f\"X_val shape: {X_val.shape}\")\n",
    "print(f\"X_test shape: {X_test.shape}\")\n",
    "print(f\"y_true shape: {y_true.shape}, Number of true anomalies: {np.sum(y_true)}\")"
   ]
  },
  {
   "cell_type": "markdown",
   "metadata": {},
   "source": [
    "## Tune `contamination` Hyperparameter"
   ]
  },
  {
   "cell_type": "code",
   "execution_count": 4,
   "metadata": {},
   "outputs": [
    {
     "name": "stdout",
     "output_type": "stream",
     "text": [
      "\n",
      "Training with contamination = 0.001...\n"
     ]
    },
    {
     "name": "stderr",
     "output_type": "stream",
     "text": [
      "/opt/miniconda3/envs/swat/lib/python3.10/site-packages/sklearn/utils/validation.py:2732: UserWarning: X has feature names, but IsolationForest was fitted without feature names\n",
      "  warnings.warn(\n",
      "/opt/miniconda3/envs/swat/lib/python3.10/site-packages/sklearn/utils/validation.py:2732: UserWarning: X has feature names, but IsolationForest was fitted without feature names\n",
      "  warnings.warn(\n"
     ]
    },
    {
     "name": "stdout",
     "output_type": "stream",
     "text": [
      "Contamination: 0.001 -> Test F1: 0.0000, Precision: 0.0000, Recall: 0.0000, Val FPs: 0 (0.0000%)\n",
      "\n",
      "Training with contamination = 0.005...\n"
     ]
    },
    {
     "name": "stderr",
     "output_type": "stream",
     "text": [
      "/opt/miniconda3/envs/swat/lib/python3.10/site-packages/sklearn/utils/validation.py:2732: UserWarning: X has feature names, but IsolationForest was fitted without feature names\n",
      "  warnings.warn(\n",
      "/opt/miniconda3/envs/swat/lib/python3.10/site-packages/sklearn/utils/validation.py:2732: UserWarning: X has feature names, but IsolationForest was fitted without feature names\n",
      "  warnings.warn(\n"
     ]
    },
    {
     "name": "stdout",
     "output_type": "stream",
     "text": [
      "Contamination: 0.005 -> Test F1: 0.7381, Precision: 0.9988, Recall: 0.5854, Val FPs: 0 (0.0000%)\n",
      "\n",
      "Training with contamination = 0.01...\n"
     ]
    },
    {
     "name": "stderr",
     "output_type": "stream",
     "text": [
      "/opt/miniconda3/envs/swat/lib/python3.10/site-packages/sklearn/utils/validation.py:2732: UserWarning: X has feature names, but IsolationForest was fitted without feature names\n",
      "  warnings.warn(\n",
      "/opt/miniconda3/envs/swat/lib/python3.10/site-packages/sklearn/utils/validation.py:2732: UserWarning: X has feature names, but IsolationForest was fitted without feature names\n",
      "  warnings.warn(\n"
     ]
    },
    {
     "name": "stdout",
     "output_type": "stream",
     "text": [
      "Contamination: 0.010 -> Test F1: 0.7412, Precision: 0.9795, Recall: 0.5961, Val FPs: 5 (0.0001%)\n",
      "\n",
      "Training with contamination = 0.015...\n"
     ]
    },
    {
     "name": "stderr",
     "output_type": "stream",
     "text": [
      "/opt/miniconda3/envs/swat/lib/python3.10/site-packages/sklearn/utils/validation.py:2732: UserWarning: X has feature names, but IsolationForest was fitted without feature names\n",
      "  warnings.warn(\n",
      "/opt/miniconda3/envs/swat/lib/python3.10/site-packages/sklearn/utils/validation.py:2732: UserWarning: X has feature names, but IsolationForest was fitted without feature names\n",
      "  warnings.warn(\n"
     ]
    },
    {
     "name": "stdout",
     "output_type": "stream",
     "text": [
      "Contamination: 0.015 -> Test F1: 0.6998, Precision: 0.7938, Recall: 0.6257, Val FPs: 290 (0.0029%)\n",
      "\n",
      "Training with contamination = 0.02...\n"
     ]
    },
    {
     "name": "stderr",
     "output_type": "stream",
     "text": [
      "/opt/miniconda3/envs/swat/lib/python3.10/site-packages/sklearn/utils/validation.py:2732: UserWarning: X has feature names, but IsolationForest was fitted without feature names\n",
      "  warnings.warn(\n",
      "/opt/miniconda3/envs/swat/lib/python3.10/site-packages/sklearn/utils/validation.py:2732: UserWarning: X has feature names, but IsolationForest was fitted without feature names\n",
      "  warnings.warn(\n"
     ]
    },
    {
     "name": "stdout",
     "output_type": "stream",
     "text": [
      "Contamination: 0.020 -> Test F1: 0.6599, Precision: 0.6902, Recall: 0.6322, Val FPs: 756 (0.0076%)\n",
      "\n",
      "Training with contamination = 0.025...\n"
     ]
    },
    {
     "name": "stderr",
     "output_type": "stream",
     "text": [
      "/opt/miniconda3/envs/swat/lib/python3.10/site-packages/sklearn/utils/validation.py:2732: UserWarning: X has feature names, but IsolationForest was fitted without feature names\n",
      "  warnings.warn(\n",
      "/opt/miniconda3/envs/swat/lib/python3.10/site-packages/sklearn/utils/validation.py:2732: UserWarning: X has feature names, but IsolationForest was fitted without feature names\n",
      "  warnings.warn(\n"
     ]
    },
    {
     "name": "stdout",
     "output_type": "stream",
     "text": [
      "Contamination: 0.025 -> Test F1: 0.6321, Precision: 0.6291, Recall: 0.6351, Val FPs: 989 (0.0100%)\n",
      "\n",
      "Training with contamination = 0.03...\n"
     ]
    },
    {
     "name": "stderr",
     "output_type": "stream",
     "text": [
      "/opt/miniconda3/envs/swat/lib/python3.10/site-packages/sklearn/utils/validation.py:2732: UserWarning: X has feature names, but IsolationForest was fitted without feature names\n",
      "  warnings.warn(\n",
      "/opt/miniconda3/envs/swat/lib/python3.10/site-packages/sklearn/utils/validation.py:2732: UserWarning: X has feature names, but IsolationForest was fitted without feature names\n",
      "  warnings.warn(\n"
     ]
    },
    {
     "name": "stdout",
     "output_type": "stream",
     "text": [
      "Contamination: 0.030 -> Test F1: 0.6186, Precision: 0.5967, Recall: 0.6423, Val FPs: 1210 (0.0122%)\n",
      "\n",
      "Training with contamination = 0.035...\n"
     ]
    },
    {
     "name": "stderr",
     "output_type": "stream",
     "text": [
      "/opt/miniconda3/envs/swat/lib/python3.10/site-packages/sklearn/utils/validation.py:2732: UserWarning: X has feature names, but IsolationForest was fitted without feature names\n",
      "  warnings.warn(\n",
      "/opt/miniconda3/envs/swat/lib/python3.10/site-packages/sklearn/utils/validation.py:2732: UserWarning: X has feature names, but IsolationForest was fitted without feature names\n",
      "  warnings.warn(\n"
     ]
    },
    {
     "name": "stdout",
     "output_type": "stream",
     "text": [
      "Contamination: 0.035 -> Test F1: 0.6141, Precision: 0.5804, Recall: 0.6520, Val FPs: 1805 (0.0182%)\n",
      "\n",
      "Training with contamination = 0.04...\n"
     ]
    },
    {
     "name": "stderr",
     "output_type": "stream",
     "text": [
      "/opt/miniconda3/envs/swat/lib/python3.10/site-packages/sklearn/utils/validation.py:2732: UserWarning: X has feature names, but IsolationForest was fitted without feature names\n",
      "  warnings.warn(\n",
      "/opt/miniconda3/envs/swat/lib/python3.10/site-packages/sklearn/utils/validation.py:2732: UserWarning: X has feature names, but IsolationForest was fitted without feature names\n",
      "  warnings.warn(\n"
     ]
    },
    {
     "name": "stdout",
     "output_type": "stream",
     "text": [
      "Contamination: 0.040 -> Test F1: 0.6096, Precision: 0.5641, Recall: 0.6630, Val FPs: 2395 (0.0242%)\n",
      "\n",
      "Training with contamination = 0.05...\n"
     ]
    },
    {
     "name": "stderr",
     "output_type": "stream",
     "text": [
      "/opt/miniconda3/envs/swat/lib/python3.10/site-packages/sklearn/utils/validation.py:2732: UserWarning: X has feature names, but IsolationForest was fitted without feature names\n",
      "  warnings.warn(\n",
      "/opt/miniconda3/envs/swat/lib/python3.10/site-packages/sklearn/utils/validation.py:2732: UserWarning: X has feature names, but IsolationForest was fitted without feature names\n",
      "  warnings.warn(\n"
     ]
    },
    {
     "name": "stdout",
     "output_type": "stream",
     "text": [
      "Contamination: 0.050 -> Test F1: 0.5823, Precision: 0.5130, Recall: 0.6734, Val FPs: 3689 (0.0373%)\n",
      "\n",
      "Training with contamination = 0.1...\n"
     ]
    },
    {
     "name": "stderr",
     "output_type": "stream",
     "text": [
      "/opt/miniconda3/envs/swat/lib/python3.10/site-packages/sklearn/utils/validation.py:2732: UserWarning: X has feature names, but IsolationForest was fitted without feature names\n",
      "  warnings.warn(\n",
      "/opt/miniconda3/envs/swat/lib/python3.10/site-packages/sklearn/utils/validation.py:2732: UserWarning: X has feature names, but IsolationForest was fitted without feature names\n",
      "  warnings.warn(\n"
     ]
    },
    {
     "name": "stdout",
     "output_type": "stream",
     "text": [
      "Contamination: 0.100 -> Test F1: 0.4628, Precision: 0.3388, Recall: 0.7301, Val FPs: 6599 (0.0667%)\n",
      "\n",
      "Training with contamination = 0.12...\n"
     ]
    },
    {
     "name": "stderr",
     "output_type": "stream",
     "text": [
      "/opt/miniconda3/envs/swat/lib/python3.10/site-packages/sklearn/utils/validation.py:2732: UserWarning: X has feature names, but IsolationForest was fitted without feature names\n",
      "  warnings.warn(\n",
      "/opt/miniconda3/envs/swat/lib/python3.10/site-packages/sklearn/utils/validation.py:2732: UserWarning: X has feature names, but IsolationForest was fitted without feature names\n",
      "  warnings.warn(\n"
     ]
    },
    {
     "name": "stdout",
     "output_type": "stream",
     "text": [
      "Contamination: 0.120 -> Test F1: 0.4408, Precision: 0.3126, Recall: 0.7472, Val FPs: 8159 (0.0824%)\n",
      "\n",
      "--- Tuning Complete ---\n"
     ]
    }
   ],
   "source": [
    "contamination_values = [0.001, 0.005, 0.01, 0.015, 0.02, 0.025, 0.03, 0.035, 0.04, 0.05, 0.1, 0.12] # Extended range including the proportion of anomalies in test set\n",
    "results = []\n",
    "\n",
    "for cont_val in contamination_values:\n",
    "    print(f\"\\nTraining with contamination = {cont_val}...\")\n",
    "    clf = IForest(\n",
    "        n_estimators=400,\n",
    "        max_samples='auto',\n",
    "        contamination=cont_val,\n",
    "        random_state=42\n",
    "    )\n",
    "    clf.fit(X_train)\n",
    "\n",
    "    # Evaluate on validation set (normal data) -> to check False Positives\n",
    "    y_pred_val = clf.predict(X_val)\n",
    "    fp_on_val = np.sum(y_pred_val) # All predictions on X_val are FPs if > 0\n",
    "    fp_rate_on_val = np.mean(y_pred_val)\n",
    "\n",
    "    # Evaluate on test set (attack data)\n",
    "    y_pred_test = clf.predict(X_test)\n",
    "    f1 = f1_score(y_true, y_pred_test)\n",
    "    precision = precision_score(y_true, y_pred_test, zero_division=0)\n",
    "    recall = recall_score(y_true, y_pred_test, zero_division=0)\n",
    "\n",
    "    results.append({\n",
    "        'contamination': cont_val,\n",
    "        'F1_test': f1,\n",
    "        'Precision_test': precision,\n",
    "        'Recall_test': recall,\n",
    "        'FP_on_val': fp_on_val,\n",
    "        'FP_Rate_on_val': fp_rate_on_val\n",
    "    })\n",
    "    print(f\"Contamination: {cont_val:.3f} -> Test F1: {f1:.4f}, Precision: {precision:.4f}, Recall: {recall:.4f}, Val FPs: {fp_on_val} ({fp_rate_on_val:.4f}%)\")\n",
    "\n",
    "results_df = pd.DataFrame(results)\n",
    "print(\"\\n--- Tuning Complete ---\")"
   ]
  },
  {
   "cell_type": "markdown",
   "metadata": {},
   "source": [
    "## Analyze Tuning Results"
   ]
  },
  {
   "cell_type": "code",
   "execution_count": 5,
   "metadata": {},
   "outputs": [
    {
     "data": {
      "text/html": [
       "<div>\n",
       "<style scoped>\n",
       "    .dataframe tbody tr th:only-of-type {\n",
       "        vertical-align: middle;\n",
       "    }\n",
       "\n",
       "    .dataframe tbody tr th {\n",
       "        vertical-align: top;\n",
       "    }\n",
       "\n",
       "    .dataframe thead th {\n",
       "        text-align: right;\n",
       "    }\n",
       "</style>\n",
       "<table border=\"1\" class=\"dataframe\">\n",
       "  <thead>\n",
       "    <tr style=\"text-align: right;\">\n",
       "      <th></th>\n",
       "      <th>contamination</th>\n",
       "      <th>F1_test</th>\n",
       "      <th>Precision_test</th>\n",
       "      <th>Recall_test</th>\n",
       "      <th>FP_on_val</th>\n",
       "      <th>FP_Rate_on_val</th>\n",
       "    </tr>\n",
       "  </thead>\n",
       "  <tbody>\n",
       "    <tr>\n",
       "      <th>2</th>\n",
       "      <td>0.010</td>\n",
       "      <td>0.741174</td>\n",
       "      <td>0.979456</td>\n",
       "      <td>0.596144</td>\n",
       "      <td>5</td>\n",
       "      <td>0.000051</td>\n",
       "    </tr>\n",
       "    <tr>\n",
       "      <th>1</th>\n",
       "      <td>0.005</td>\n",
       "      <td>0.738125</td>\n",
       "      <td>0.998782</td>\n",
       "      <td>0.585361</td>\n",
       "      <td>0</td>\n",
       "      <td>0.000000</td>\n",
       "    </tr>\n",
       "    <tr>\n",
       "      <th>3</th>\n",
       "      <td>0.015</td>\n",
       "      <td>0.699790</td>\n",
       "      <td>0.793794</td>\n",
       "      <td>0.625693</td>\n",
       "      <td>290</td>\n",
       "      <td>0.002929</td>\n",
       "    </tr>\n",
       "    <tr>\n",
       "      <th>4</th>\n",
       "      <td>0.020</td>\n",
       "      <td>0.659933</td>\n",
       "      <td>0.690177</td>\n",
       "      <td>0.632229</td>\n",
       "      <td>756</td>\n",
       "      <td>0.007636</td>\n",
       "    </tr>\n",
       "    <tr>\n",
       "      <th>5</th>\n",
       "      <td>0.025</td>\n",
       "      <td>0.632071</td>\n",
       "      <td>0.629085</td>\n",
       "      <td>0.635085</td>\n",
       "      <td>989</td>\n",
       "      <td>0.009990</td>\n",
       "    </tr>\n",
       "    <tr>\n",
       "      <th>6</th>\n",
       "      <td>0.030</td>\n",
       "      <td>0.618637</td>\n",
       "      <td>0.596673</td>\n",
       "      <td>0.642280</td>\n",
       "      <td>1210</td>\n",
       "      <td>0.012222</td>\n",
       "    </tr>\n",
       "    <tr>\n",
       "      <th>7</th>\n",
       "      <td>0.035</td>\n",
       "      <td>0.614118</td>\n",
       "      <td>0.580394</td>\n",
       "      <td>0.652002</td>\n",
       "      <td>1805</td>\n",
       "      <td>0.018232</td>\n",
       "    </tr>\n",
       "    <tr>\n",
       "      <th>8</th>\n",
       "      <td>0.040</td>\n",
       "      <td>0.609569</td>\n",
       "      <td>0.564077</td>\n",
       "      <td>0.663042</td>\n",
       "      <td>2395</td>\n",
       "      <td>0.024192</td>\n",
       "    </tr>\n",
       "    <tr>\n",
       "      <th>9</th>\n",
       "      <td>0.050</td>\n",
       "      <td>0.582344</td>\n",
       "      <td>0.512977</td>\n",
       "      <td>0.673404</td>\n",
       "      <td>3689</td>\n",
       "      <td>0.037263</td>\n",
       "    </tr>\n",
       "    <tr>\n",
       "      <th>10</th>\n",
       "      <td>0.100</td>\n",
       "      <td>0.462785</td>\n",
       "      <td>0.338762</td>\n",
       "      <td>0.730067</td>\n",
       "      <td>6599</td>\n",
       "      <td>0.066657</td>\n",
       "    </tr>\n",
       "    <tr>\n",
       "      <th>11</th>\n",
       "      <td>0.120</td>\n",
       "      <td>0.440769</td>\n",
       "      <td>0.312584</td>\n",
       "      <td>0.747167</td>\n",
       "      <td>8159</td>\n",
       "      <td>0.082414</td>\n",
       "    </tr>\n",
       "    <tr>\n",
       "      <th>0</th>\n",
       "      <td>0.001</td>\n",
       "      <td>0.000000</td>\n",
       "      <td>0.000000</td>\n",
       "      <td>0.000000</td>\n",
       "      <td>0</td>\n",
       "      <td>0.000000</td>\n",
       "    </tr>\n",
       "  </tbody>\n",
       "</table>\n",
       "</div>"
      ],
      "text/plain": [
       "    contamination   F1_test  Precision_test  Recall_test  FP_on_val  \\\n",
       "2           0.010  0.741174        0.979456     0.596144          5   \n",
       "1           0.005  0.738125        0.998782     0.585361          0   \n",
       "3           0.015  0.699790        0.793794     0.625693        290   \n",
       "4           0.020  0.659933        0.690177     0.632229        756   \n",
       "5           0.025  0.632071        0.629085     0.635085        989   \n",
       "6           0.030  0.618637        0.596673     0.642280       1210   \n",
       "7           0.035  0.614118        0.580394     0.652002       1805   \n",
       "8           0.040  0.609569        0.564077     0.663042       2395   \n",
       "9           0.050  0.582344        0.512977     0.673404       3689   \n",
       "10          0.100  0.462785        0.338762     0.730067       6599   \n",
       "11          0.120  0.440769        0.312584     0.747167       8159   \n",
       "0           0.001  0.000000        0.000000     0.000000          0   \n",
       "\n",
       "    FP_Rate_on_val  \n",
       "2         0.000051  \n",
       "1         0.000000  \n",
       "3         0.002929  \n",
       "4         0.007636  \n",
       "5         0.009990  \n",
       "6         0.012222  \n",
       "7         0.018232  \n",
       "8         0.024192  \n",
       "9         0.037263  \n",
       "10        0.066657  \n",
       "11        0.082414  \n",
       "0         0.000000  "
      ]
     },
     "metadata": {},
     "output_type": "display_data"
    },
    {
     "data": {
      "image/png": "[encoded data removed]",
      "text/plain": [
       "<Figure size 1200x600 with 2 Axes>"
      ]
     },
     "metadata": {},
     "output_type": "display_data"
    }
   ],
   "source": [
    "display(results_df.sort_values(by='F1_test', ascending=False))\n",
    "\n",
    "# Plotting the results for better visualization\n",
    "fig, ax1 = plt.subplots(figsize=(12, 6))\n",
    "\n",
    "color = 'tab:red'\n",
    "ax1.set_xlabel('Contamination')\n",
    "ax1.set_ylabel('F1 Score (Test)', color=color)\n",
    "ax1.plot(results_df['contamination'], results_df['F1_test'], color=color, marker='o', label='F1 Score (Test)')\n",
    "ax1.tick_params(axis='y', labelcolor=color)\n",
    "\n",
    "ax2 = ax1.twinx()  # instantiate a second axes that shares the same x-axis\n",
    "color = 'tab:blue'\n",
    "ax2.set_ylabel('False Positive Rate on Validation (%)', color=color)  # we already handled the x-label with ax1\n",
    "ax2.plot(results_df['contamination'], results_df['FP_Rate_on_val'] * 100, color=color, marker='x', linestyle='--', label='FP Rate on Val (%)')\n",
    "ax2.tick_params(axis='y', labelcolor=color)\n",
    "\n",
    "fig.tight_layout()  # otherwise the right y-label is slightly clipped\n",
    "plt.title('Contamination Tuning: F1 Score vs. False Positive Rate')\n",
    "fig.legend(loc=\"upper right\", bbox_to_anchor=(1,1), bbox_transform=ax1.transAxes)\n",
    "plt.grid(True)\n",
    "plt.show()"
   ]
  },
  {
   "cell_type": "markdown",
   "metadata": {},
   "source": [
    "## Select Best Contamination and Retrain on Full Normal Data (Optional)\n",
    "Based on the table and plot, select a `contamination` value that offers a good balance between F1 score on the test set and an acceptable False Positive Rate on the validation set (normal data)."
   ]
  },
  {
   "cell_type": "code",
   "execution_count": null,
   "metadata": {},
   "outputs": [],
   "source": [
    "# Example: Choosing the contamination that gave the highest F1 score on the test set\n",
    "# You might want to apply more nuanced selection criteria, e.g., best F1 with FP_Rate_on_val < certain_threshold\n",
    "best_contamination_row = results_df.loc[results_df['F1_test'].idxmax()]\n",
    "best_contamination = best_contamination_row['contamination']\n",
    "\n",
    "print(f\"Selected best contamination based on max F1 on test: {best_contamination}\")\n",
    "print(f\"Details for best contamination: F1={best_contamination_row['F1_test']:.4f}, Precision={best_contamination_row['Precision_test']:.4f}, Recall={best_contamination_row['Recall_test']:.4f}, Val FP Rate={best_contamination_row['FP_Rate_on_val']:.4f}\")\n",
    "\n",
    "print(f\"\\nRetraining model with contamination = {best_contamination} on FULL normal data... ({normal_z_full.shape[0]} samples)\")\n",
    "final_clf = IForest(\n",
    "    n_estimators=400,\n",
    "    max_samples='auto',\n",
    "    contamination=best_contamination,\n",
    "    random_state=42\n",
    "    )\n",
    "# Fit on the entire normal dataset now that tuning is done\n",
    "final_clf.fit(normal_z_full)\n",
    "\n",
    "print(\"Predicting with the final model on the test set...\")\n",
    "y_pred_final = final_clf.predict(X_test)\n",
    "\n",
    "print(f\"\\n--- Final Model Performance (Contamination = {best_contamination:.4f}) ---\")\n",
    "f1_final = f1_score(y_true, y_pred_final)\n",
    "precision_final = precision_score(y_true, y_pred_final, zero_division=0)\n",
    "recall_final = recall_score(y_true, y_pred_final, zero_division=0)\n",
    "cm_final = confusion_matrix(y_true, y_pred_final)\n",
    "\n",
    "print(f\"F1 Score:    {f1_final:.4f}\")\n",
    "print(f\"Precision:   {precision_final:.4f}\")\n",
    "print(f\"Recall:      {recall_final:.4f}\")\n",
    "print(\"Confusion Matrix:\")\n",
    "print(cm_final)"
   ]
  },
  {
   "cell_type": "markdown",
   "metadata": {},
   "source": [
    "## Pakcage the model"
   ]
  },
  {
   "cell_type": "code",
   "execution_count": null,
   "metadata": {},
   "outputs": [],
   "source": [
    "import joblib\n",
    "joblib.dump(final_clf, '../models/iforest_swat_model.pkl')\n",
    "print(\"Final model saved to iforest_swat_model.pkl\")"
   ]
  },
  {
   "cell_type": "markdown",
   "metadata": {},
   "source": [
    "## Check the model"
   ]
  },
  {
   "cell_type": "code",
   "execution_count": 2,
   "metadata": {},
   "outputs": [
    {
     "name": "stdout",
     "output_type": "stream",
     "text": [
      "Model loaded from: /Users/tim/myhub.com/playground/infra-triage/models/iforest_swat_model.pkl\n",
      "Model's decision threshold (threshold_): -8.526233647061787e-18\n",
      "Model's contamination parameter used during training: 0.01\n"
     ]
    }
   ],
   "source": [
    "import joblib\n",
    "import pandas as pd # If not already imported\n",
    "import os\n",
    "\n",
    "# Path to your saved model\n",
    "project_root_for_model = os.path.abspath(os.path.join(os.getcwd(), '..')) # Adjust if current dir is not 'notebooks'\n",
    "model_path = os.path.join(project_root_for_model, 'models', 'iforest_swat_model.pkl')\n",
    "\n",
    "try:\n",
    "    final_clf_loaded = joblib.load(model_path)\n",
    "    print(f\"Model loaded from: {model_path}\")\n",
    "    print(f\"Model's decision threshold (threshold_): {final_clf_loaded.threshold_}\")\n",
    "    print(f\"Model's contamination parameter used during training: {final_clf_loaded.contamination}\")\n",
    "except Exception as e:\n",
    "    print(f\"Error loading model from {model_path}: {e}\")"
   ]
  }
 ],
 "metadata": {
  "kernelspec": {
   "display_name": "swat",
   "language": "python",
   "name": "python3"
  },
  "language_info": {
   "codemirror_mode": {
    "name": "ipython",
    "version": 3
   },
   "file_extension": ".py",
   "mimetype": "text/x-python",
   "name": "python",
   "nbconvert_exporter": "python",
   "pygments_lexer": "ipython3",
   "version": "3.10.13"
  }
 },
 "nbformat": 4,
 "nbformat_minor": 2
}
